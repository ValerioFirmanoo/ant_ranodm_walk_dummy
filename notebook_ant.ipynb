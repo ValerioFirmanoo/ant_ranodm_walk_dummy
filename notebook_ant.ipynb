{
 "cells": [
  {
   "cell_type": "code",
   "execution_count": 32,
   "metadata": {},
   "outputs": [],
   "source": [
    "import random\n",
    "\n",
    "def simulate_ant_movement(boundary_condition, simulations=10000):\n",
    "    # Define possible moves with equal probability: north, south, east, west\n",
    "    moves = [(0, 10), (0, -10), (10, 0), (-10, 0)]\n",
    "    \n",
    "    total_time = 0\n",
    "    \n",
    "    for _ in range(simulations):\n",
    "        # Initialize ant's position\n",
    "        x, y = 0, 0  # Assuming the anthill is at the origin (0,0)\n",
    "        time = 0\n",
    "        \n",
    "        # Continue moving until the ant reaches the boundary\n",
    "        while boundary_condition(x,y):\n",
    "            d = random.choice(moves)  # Randomly choose a direction to move\n",
    "            x += d[0]\n",
    "            y += d[1]\n",
    "            time += 1  # Increment time for each move\n",
    "        total_time += time  # Accumulate the total time taken for each simulation\n",
    "    \n",
    "    # Calculate the average time from all simulations\n",
    "    average_time = total_time / simulations\n",
    "    return average_time\n",
    "\n"
   ]
  },
  {
   "cell_type": "code",
   "execution_count": 27,
   "metadata": {},
   "outputs": [],
   "source": [
    "def boundary_condition_es1(x,y):\n",
    "    return (abs(x)<20 and abs(y)<20)\n",
    "\n",
    "def boundary_condition_es3(x,y):\n",
    "    return ((x - 2.5) / 30)**2 + ((y - 2.5) / 40)**2 < 1"
   ]
  },
  {
   "cell_type": "code",
   "execution_count": 33,
   "metadata": {},
   "outputs": [
    {
     "name": "stdout",
     "output_type": "stream",
     "text": [
      "Estimated average time to find food in es_1: 4.4921 seconds\n"
     ]
    }
   ],
   "source": [
    "# Perform the simulation for ex_1\n",
    "average_time = simulate_ant_movement(boundary_condition_es1)\n",
    "print(f\"Estimated average time to find food in es_1: {average_time} seconds\")"
   ]
  },
  {
   "cell_type": "code",
   "execution_count": 35,
   "metadata": {},
   "outputs": [
    {
     "name": "stdout",
     "output_type": "stream",
     "text": [
      "Estimated average time to find food in es_3: 13.9565 seconds\n"
     ]
    }
   ],
   "source": [
    "# Perform the simulation for ex_2\n",
    "average_time = simulate_ant_movement(boundary_condition_es3)\n",
    "print(f\"Estimated average time to find food in es_3: {average_time} seconds\")"
   ]
  },
  {
   "cell_type": "code",
   "execution_count": null,
   "metadata": {},
   "outputs": [],
   "source": []
  }
 ],
 "metadata": {
  "kernelspec": {
   "display_name": "Python 3",
   "language": "python",
   "name": "python3"
  },
  "language_info": {
   "codemirror_mode": {
    "name": "ipython",
    "version": 3
   },
   "file_extension": ".py",
   "mimetype": "text/x-python",
   "name": "python",
   "nbconvert_exporter": "python",
   "pygments_lexer": "ipython3",
   "version": "3.10.12"
  }
 },
 "nbformat": 4,
 "nbformat_minor": 2
}
